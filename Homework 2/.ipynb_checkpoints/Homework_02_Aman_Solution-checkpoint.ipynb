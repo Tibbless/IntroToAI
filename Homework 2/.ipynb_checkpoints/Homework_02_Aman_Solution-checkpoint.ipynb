{
 "cells": [
  {
   "cell_type": "markdown",
   "id": "42f07dff",
   "metadata": {},
   "source": [
    "# CSCI 3202 Fall 2024"
   ]
  },
  {
   "cell_type": "markdown",
   "id": "051c8722",
   "metadata": {},
   "source": [
    "### Homework 2 (60 pts)\n",
    "Due: Monday, September 23 at 11:59 pm"
   ]
  },
  {
   "cell_type": "markdown",
   "id": "c465725a",
   "metadata": {},
   "source": []
  },
  {
   "cell_type": "markdown",
   "id": "71b3f503",
   "metadata": {},
   "source": [
    "**Name:**"
   ]
  },
  {
   "cell_type": "markdown",
   "id": "87e04cbd",
   "metadata": {},
   "source": [
    "---\n",
    "**Use the graph shown below to answer the following questions.**"
   ]
  },
  {
   "attachments": {
    "graph.png": {
     "image/png": "[encoded data removed]"
    }
   },
   "cell_type": "markdown",
   "id": "b274c5d6",
   "metadata": {},
   "source": [
    "![graph.png](attachment:graph.png)"
   ]
  },
  {
   "cell_type": "markdown",
   "id": "0ac9ac7a",
   "metadata": {},
   "source": [
    "---\n",
    "**Question 1. (10 points: 5 points each for BFS and DFS)**"
   ]
  },
  {
   "cell_type": "markdown",
   "id": "ef242a1f",
   "metadata": {},
   "source": [
    "By hand, use the BFS and recursive DFS algorithms showing the sequence of nodes BFS and recursive DFS will visit while starting at node 1 and with a goal of reaching node 7.  The traversal should visit each node in ascending order of the vertex numbers.  Divide the results up into steps, starting a new step when you add one or more new nodes to the frontier. Show the frontier and visited nodes for each step."
   ]
  },
  {
   "cell_type": "markdown",
   "id": "9081863d",
   "metadata": {},
   "source": [
    "Your answer here"
   ]
  },
  {
   "cell_type": "markdown",
   "id": "343da345",
   "metadata": {},
   "source": [
    "---\n",
    "**Question 2. (10 points)**"
   ]
  },
  {
   "cell_type": "markdown",
   "id": "6d68431f",
   "metadata": {},
   "source": [
    "Clone the github repository for AIMA python https://github.com/aimacode/aima-python and install it following the instructions in the README file.  You do not need a github key to do this.  You are only copying this repository.  You will not be pushing back any code or creating pull requests.\n",
    "\n",
    "Using search.py from the AIMA repository and the abstract class Problem:\n",
    "* Create a data structure that holds your graph from problem 1 and construct the graph.  Print the data to show how it is stored\n",
    "* Fill in the methods needed to search your graph, by subclassing `class Problem` and creating a concrete subclass.  You will need to modify the `actions`, `result` and `__init__` methods"
   ]
  },
  {
   "cell_type": "code",
   "execution_count": 6,
   "id": "a22c1586",
   "metadata": {},
   "outputs": [],
   "source": [
    "import sys\n",
    "from collections import deque\n",
    "\n",
    "\n",
    "# Graph representation as an adjacency list\n",
    "graph = {\n",
    "    1: [2, 3],   # Node 1 connects to 2 and 3\n",
    "    2: [1, 4],   # Node 2 connects to 1 and 4\n",
    "    3: [1, 5],   # Node 3 connects to 1 and 5\n",
    "    4: [2, 8, 9],# Node 4 connects to 2, 8, and 9\n",
    "    5: [3, 6, 7],# Node 5 connects to 3, 6, and 7\n",
    "    6: [5],      # Node 6 connects to 5\n",
    "    7: [5],      # Node 7 connects to 5\n",
    "    8: [4],      # Node 8 connects to 4\n",
    "    9: [4]       # Node 9 connects to 4\n",
    "}\n",
    "\n"
   ]
  },
  {
   "cell_type": "code",
   "execution_count": 8,
   "id": "3cb9dc93",
   "metadata": {},
   "outputs": [],
   "source": [
    "import sys\n",
    "from collections import deque\n",
    "\n",
    "\n",
    "\n",
    "\n",
    "class Problem:\n",
    "    \"\"\"The abstract class for a formal problem. You should subclass\n",
    "    this and implement the methods actions and result, and possibly\n",
    "    __init__, goal_test, and path_cost. Then you will create instances\n",
    "    of your subclass and solve them with the various search functions.\"\"\"\n",
    "\n",
    "    def __init__(self, initial, goal=None):\n",
    "        \"\"\"The constructor specifies the initial state, and possibly a goal\n",
    "        state, if there is a unique goal. Your subclass's constructor can add\n",
    "        other arguments.\"\"\"\n",
    "        self.initial = initial\n",
    "        self.goal = goal\n",
    "\n",
    "    def actions(self, state):\n",
    "        \"\"\"Return the actions that can be executed in the given\n",
    "        state. The result would typically be a list, but if there are\n",
    "        many actions, consider yielding them one at a time in an\n",
    "        iterator, rather than building them all at once.\"\"\"\n",
    "        raise NotImplementedError\n",
    "\n",
    "    def result(self, state, action):\n",
    "        \"\"\"Return the state that results from executing the given\n",
    "        action in the given state. The action must be one of\n",
    "        self.actions(state).\"\"\"\n",
    "        raise NotImplementedError\n",
    "\n",
    "    def goal_test(self, state):\n",
    "        \"\"\"Return True if the state is a goal. The default method compares the\n",
    "        state to self.goal or checks for state in self.goal if it is a\n",
    "        list, as specified in the constructor. Override this method if\n",
    "        checking against a single self.goal is not enough.\"\"\"\n",
    "        if isinstance(self.goal, list):\n",
    "            return is_in(state, self.goal)\n",
    "        else:\n",
    "            return state == self.goal\n",
    "\n",
    "    def path_cost(self, c, state1, action, state2):\n",
    "        \"\"\"Return the cost of a solution path that arrives at state2 from\n",
    "        state1 via action, assuming cost c to get up to state1. If the problem\n",
    "        is such that the path doesn't matter, this function will only look at\n",
    "        state2. If the path does matter, it will consider c and maybe state1\n",
    "        and action. The default method costs 1 for every step in the path.\"\"\"\n",
    "        return c + 1\n",
    "\n",
    "    def value(self, state):\n",
    "        \"\"\"For optimization problems, each state has a value. Hill Climbing\n",
    "        and related algorithms try to maximize this value.\"\"\"\n",
    "        raise NotImplementedError\n",
    "\n",
    "\n",
    "# ______________________________________________________________________________\n",
    "\n",
    "\n",
    "class Node:\n",
    "    \"\"\"A node in a search tree. Contains a pointer to the parent (the node\n",
    "    that this is a successor of) and to the actual state for this node. Note\n",
    "    that if a state is arrived at by two paths, then there are two nodes with\n",
    "    the same state. Also includes the action that got us to this state, and\n",
    "    the total path_cost (also known as g) to reach the node. Other functions\n",
    "    may add an f and h value; see best_first_graph_search and astar_search for\n",
    "    an explanation of how the f and h values are handled. You will not need to\n",
    "    subclass this class.\"\"\"\n",
    "\n",
    "    def __init__(self, state, parent=None, action=None, path_cost=0):\n",
    "        \"\"\"Create a search tree Node, derived from a parent by an action.\"\"\"\n",
    "        self.state = state\n",
    "        self.parent = parent\n",
    "        self.action = action\n",
    "        self.path_cost = path_cost\n",
    "        self.depth = 0\n",
    "        if parent:\n",
    "            self.depth = parent.depth + 1\n",
    "\n",
    "    def __repr__(self):\n",
    "        return \"<Node {}>\".format(self.state)\n",
    "\n",
    "    def __lt__(self, node):\n",
    "        return self.state < node.state\n",
    "\n",
    "    def expand(self, problem):\n",
    "        \"\"\"List the nodes reachable in one step from this node.\"\"\"\n",
    "        return [self.child_node(problem, action)\n",
    "                for action in problem.actions(self.state)]\n",
    "\n",
    "    def child_node(self, problem, action):\n",
    "        \"\"\"[Figure 3.10]\"\"\"\n",
    "        next_state = problem.result(self.state, action)\n",
    "        next_node = Node(next_state, self, action, problem.path_cost(self.path_cost, self.state, action, next_state))\n",
    "        return next_node\n",
    "\n",
    "    def solution(self):\n",
    "        \"\"\"Return the sequence of actions to go from the root to this node.\"\"\"\n",
    "        return [node.action for node in self.path()[1:]]\n",
    "\n",
    "    def path(self):\n",
    "        \"\"\"Return a list of nodes forming the path from the root to this node.\"\"\"\n",
    "        node, path_back = self, []\n",
    "        while node:\n",
    "            path_back.append(node)\n",
    "            node = node.parent\n",
    "        return list(reversed(path_back))\n",
    "\n",
    "    # We want for a queue of nodes in breadth_first_graph_search or\n",
    "    # astar_search to have no duplicated states, so we treat nodes\n",
    "    # with the same state as equal. [Problem: this may not be what you\n",
    "    # want in other contexts.]\n",
    "\n",
    "    def __eq__(self, other):\n",
    "        return isinstance(other, Node) and self.state == other.state\n",
    "\n",
    "    def __hash__(self):\n",
    "        # We use the hash value of the state\n",
    "        # stored in the node instead of the node\n",
    "        # object itself to quickly search a node\n",
    "        # with the same state in a Hash Table\n",
    "        return hash(self.state)\n",
    "    \n",
    "    # Define a graph class to represent the problem\n",
    "class GraphProblem(Problem):\n",
    "    def __init__(self, initial, goal, graph):\n",
    "        super().__init__(initial, goal)\n",
    "        self.graph = graph\n",
    "    \n",
    "    def actions(self, state):\n",
    "        \"\"\"Return all actions that can be executed in the given state (i.e., neighbors).\"\"\"\n",
    "        return sorted(self.graph[state])  # Ensure the neighbors are returned in ascending order\n",
    "    \n",
    "    def result(self, state, action):\n",
    "        \"\"\"Return the state that results from executing the given action.\"\"\"\n",
    "        return action\n",
    "\n",
    "problem = GraphProblem(initial=1, goal=7, graph=graph)"
   ]
  },
  {
   "cell_type": "markdown",
   "id": "7bf532b4",
   "metadata": {},
   "source": [
    "---\n",
    "**Question 3. (20 points: 10 points each for BFS and DFS)**"
   ]
  },
  {
   "cell_type": "markdown",
   "id": "e07a062d",
   "metadata": {},
   "source": [
    "Modify and run the search.py functions `depth_first_graph_search()` (line 216) and `breadth_first_graph_search()` (line 238), printing the nodes each function visits on its way to finding the goal.  You will need to modify these functions by adding one or more print() statements"
   ]
  },
  {
   "cell_type": "code",
   "execution_count": 9,
   "id": "999b1b66",
   "metadata": {},
   "outputs": [],
   "source": [
    "def depth_first_graph_search(problem):\n",
    "    frontier = [(Node(problem.initial))]  # Stack for DFS\n",
    "    explored = set()\n",
    "    solution_path = []\n",
    "\n",
    "    print(\"DFS Traversal:\")\n",
    "\n",
    "    while frontier:\n",
    "        node = frontier.pop()  # LIFO for DFS\n",
    "        if node.state in explored:\n",
    "            continue\n",
    "        print(f\"Visited: {node.state}\")\n",
    "        solution_path.append(node.state)  # Track the nodes as they are visited\n",
    "        explored.add(node.state)\n",
    "        if problem.goal_test(node.state):\n",
    "            print(f\"Goal {node.state} found!\")\n",
    "            break\n",
    "\n",
    "        # We need to reverse child nodes to explore them in the correct DFS order.\n",
    "        children = sorted(node.expand(problem), key=lambda n: n.state, reverse=True)\n",
    "        frontier.extend(child for child in children if child.state not in explored)\n",
    "\n",
    "    print(f\"DFS Solution Path: {solution_path}\")\n",
    "    return solution_path\n",
    "\n",
    "\n",
    "\n",
    "\n",
    "\n",
    "def breadth_first_graph_search(problem):\n",
    "    node = Node(problem.initial)\n",
    "    if problem.goal_test(node.state):\n",
    "        return node\n",
    "    frontier = deque([node])  # FIFO queue for BFS\n",
    "    explored = set()\n",
    "    solution_path = []\n",
    "\n",
    "    print(\"BFS Traversal:\")\n",
    "\n",
    "    while frontier:\n",
    "        node = frontier.popleft()\n",
    "        if node.state in explored:\n",
    "            continue\n",
    "        print(f\"Visited: {node.state}\")\n",
    "        solution_path.append(node.state)  # Track the nodes as they are visited\n",
    "        explored.add(node.state)\n",
    "        if problem.goal_test(node.state):\n",
    "            print(f\"Goal {node.state} found!\")\n",
    "            break\n",
    "\n",
    "        # We need to sort child nodes properly to ensure correct traversal order.\n",
    "        children = sorted(node.expand(problem), key=lambda n: n.state)\n",
    "        frontier.extend(child for child in children if child.state not in explored and child not in frontier)\n",
    "\n",
    "    print(f\"BFS Solution Path: {solution_path}\")\n",
    "    return solution_path\n",
    "\n"
   ]
  },
  {
   "cell_type": "markdown",
   "id": "97d90274",
   "metadata": {},
   "source": [
    "---\n",
    "**Question 4. (10 points, 5 points each for BFS and DFS)**"
   ]
  },
  {
   "cell_type": "markdown",
   "id": "61c4ba81",
   "metadata": {},
   "source": [
    "These search functions explicitly construct a search tree. Print the resulting search tree separately for BFS and DFS and show the path from source to destination found by each algorithm (10 points, 5 points for BFS, DFS)"
   ]
  },
  {
   "cell_type": "code",
   "execution_count": 10,
   "id": "e6c32640",
   "metadata": {},
   "outputs": [
    {
     "name": "stdout",
     "output_type": "stream",
     "text": [
      "BFS Traversal:\n",
      "Visited: 1\n",
      "Visited: 2\n",
      "Visited: 3\n",
      "Visited: 4\n",
      "Visited: 5\n",
      "Visited: 8\n",
      "Visited: 9\n",
      "Visited: 6\n",
      "Visited: 7\n",
      "Goal 7 found!\n",
      "BFS Solution Path: [1, 2, 3, 4, 5, 8, 9, 6, 7]\n",
      "DFS Traversal:\n",
      "Visited: 1\n",
      "Visited: 2\n",
      "Visited: 4\n",
      "Visited: 8\n",
      "Visited: 9\n",
      "Visited: 3\n",
      "Visited: 5\n",
      "Visited: 6\n",
      "Visited: 7\n",
      "Goal 7 found!\n",
      "DFS Solution Path: [1, 2, 4, 8, 9, 3, 5, 6, 7]\n"
     ]
    }
   ],
   "source": [
    "# Assuming the graph and problem setup are already defined\n",
    "bfs_solution = breadth_first_graph_search(problem)\n",
    "dfs_solution = depth_first_graph_search(problem)\n"
   ]
  },
  {
   "cell_type": "markdown",
   "id": "d1451837",
   "metadata": {},
   "source": [
    "---\n",
    "**Question 5. (10 points)**"
   ]
  },
  {
   "cell_type": "markdown",
   "id": "071d5bbf",
   "metadata": {},
   "source": [
    "The paths for BFS and DFS are different. Write 2-3 sentences explaining why they are different."
   ]
  },
  {
   "cell_type": "markdown",
   "id": "0c4c0142",
   "metadata": {},
   "source": [
    "Your answer here"
   ]
  },
  {
   "cell_type": "markdown",
   "id": "ad7e0c24",
   "metadata": {},
   "source": []
  },
  {
   "cell_type": "markdown",
   "id": "5464475c",
   "metadata": {},
   "source": []
  }
 ],
 "metadata": {
  "kernelspec": {
   "display_name": "Python 3 (ipykernel)",
   "language": "python",
   "name": "python3"
  },
  "language_info": {
   "codemirror_mode": {
    "name": "ipython",
    "version": 3
   },
   "file_extension": ".py",
   "mimetype": "text/x-python",
   "name": "python",
   "nbconvert_exporter": "python",
   "pygments_lexer": "ipython3",
   "version": "3.11.5"
  }
 },
 "nbformat": 4,
 "nbformat_minor": 5
}
